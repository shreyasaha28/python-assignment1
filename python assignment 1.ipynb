{
 "cells": [
  {
   "cell_type": "markdown",
   "id": "22f514da-088e-453e-84b1-334ebba1a2d9",
   "metadata": {},
   "source": [
    "#1. Explain the key features of python that make it a popular choice for  programming\n",
    "- Python is a easy to learn programming language and it is compatible with various programming models , on top of that it has extensive libraries like Pandas Numpy etc. which helps to work with data and mathematical probles. Python being a free source is eaily available and it has strong community support.\n",
    "\n",
    "\n",
    "#2. Describe the role of predefined keywords in python and provide examples of how they are being used in aprogram.\n",
    "   - Keywords are predefined words in python they have a special meaning and and their meaning cannot be altered . Keywords are reserved and cannot be used as identifiers.\n",
    "\n",
    "\n",
    "\n",
    "      \n",
    "#3. Compare and contrast mutable and immutable objects in python with example.\n",
    "   - I python programming language some objects are changable and some are not changable. Modifiable objects are mutable and non modifiable objects are immutable.\n",
    "For example : list and dictionaries can be altered but strings and tuples cannot be altered.\n",
    "\n"
   ]
  },
  {
   "cell_type": "code",
   "execution_count": 25,
   "id": "a4af42bd-599f-40b6-adfa-0b5f5cb6048f",
   "metadata": {},
   "outputs": [
    {
     "name": "stdout",
     "output_type": "stream",
     "text": [
      "[1, 2, 3, 4]\n"
     ]
    }
   ],
   "source": [
    "mylist=[1,2,3]\n",
    "mylist.append(4)\n",
    "print(mylist)"
   ]
  },
  {
   "cell_type": "code",
   "execution_count": 1,
   "id": "334642c3-0e6f-4dc1-9213-54a0db93f7ca",
   "metadata": {},
   "outputs": [
    {
     "name": "stdout",
     "output_type": "stream",
     "text": [
      "shreya\n"
     ]
    }
   ],
   "source": [
    "name=\"shreya\"\n",
    "print(name)"
   ]
  },
  {
   "cell_type": "markdown",
   "id": "e2e98a10-8098-46bc-9d59-ac447693db50",
   "metadata": {},
   "source": [
    "#4. Discuss the different type of oprators in python and provide examples how they are used.\n",
    "   - operatos are used tp carry out specific functions. There are diffrernt type of operatos such as\n",
    "   - artheamatic operator\n",
    "   - comparision operator\n",
    "   - logical operator\n",
    "   - membership operator\n",
    "   - bitwise opertor\n",
    "    - identity operator"
   ]
  },
  {
   "cell_type": "code",
   "execution_count": 41,
   "id": "32bce0e6-2a39-4934-9a17-3aca46d88134",
   "metadata": {},
   "outputs": [
    {
     "name": "stdout",
     "output_type": "stream",
     "text": [
      "14\n",
      "False\n"
     ]
    },
    {
     "data": {
      "text/plain": [
       "False"
      ]
     },
     "execution_count": 41,
     "metadata": {},
     "output_type": "execute_result"
    }
   ],
   "source": [
    "x=10\n",
    "y=4\n",
    "z=2\n",
    "print(x+y)           # artheamatic oprtaor\n",
    "print(x==y)           # comparision operator\n",
    "x<y and y<z           #logical operator\n"
   ]
  },
  {
   "cell_type": "code",
   "execution_count": 43,
   "id": "919ffb2e-5d53-4814-966e-a305f1b92c0a",
   "metadata": {},
   "outputs": [
    {
     "data": {
      "text/plain": [
       "True"
      ]
     },
     "execution_count": 43,
     "metadata": {},
     "output_type": "execute_result"
    }
   ],
   "source": [
    "a=\"shreya\"           # membership operator\n",
    "\"s\" in a"
   ]
  },
  {
   "cell_type": "code",
   "execution_count": 45,
   "id": "572f1ee9-fdf4-4c55-8342-24751bf01d2a",
   "metadata": {},
   "outputs": [
    {
     "data": {
      "text/plain": [
       "True"
      ]
     },
     "execution_count": 45,
     "metadata": {},
     "output_type": "execute_result"
    }
   ],
   "source": [
    "a=2\n",
    "b=2             #identity operator\n",
    "a is b\n"
   ]
  },
  {
   "cell_type": "code",
   "execution_count": 47,
   "id": "7d9868b5-3e54-4012-aef2-4bf56b24ceb7",
   "metadata": {},
   "outputs": [
    {
     "data": {
      "text/plain": [
       "'0b1010'"
      ]
     },
     "execution_count": 47,
     "metadata": {},
     "output_type": "execute_result"
    }
   ],
   "source": [
    "bin(10)         # bitwise operator"
   ]
  },
  {
   "cell_type": "markdown",
   "id": "ae4763e1-fc6a-4518-b20a-11e7bf3fce19",
   "metadata": {},
   "source": [
    "#5. Explain the concept of typecasting in python with examples.\n",
    "    - Typecasting is a method of changing one datatype to another ."
   ]
  },
  {
   "cell_type": "code",
   "execution_count": 52,
   "id": "944b9328-a892-4322-b916-23e334bcf6f0",
   "metadata": {},
   "outputs": [
    {
     "data": {
      "text/plain": [
       "str"
      ]
     },
     "execution_count": 52,
     "metadata": {},
     "output_type": "execute_result"
    }
   ],
   "source": [
    "name=\"1\"\n",
    "type(name)"
   ]
  },
  {
   "cell_type": "code",
   "execution_count": 56,
   "id": "1e0742c9-0ea5-4e66-8928-d9e1210440e5",
   "metadata": {},
   "outputs": [
    {
     "data": {
      "text/plain": [
       "6"
      ]
     },
     "execution_count": 56,
     "metadata": {},
     "output_type": "execute_result"
    }
   ],
   "source": [
    "b=5\n",
    "int(name)+b"
   ]
  },
  {
   "cell_type": "markdown",
   "id": "c71e412a-c1d8-4c28-8bb4-00759785d09a",
   "metadata": {},
   "source": [
    "#6. How do conditional statement work in python ? illustrate with example\n",
    "   - conditionals statements in python are used to execute certain block of code depending whether the condition is true or false. There are some type of conditional statement such as > if, else, elif , nested if else  .\n",
    "     "
   ]
  },
  {
   "cell_type": "code",
   "execution_count": 8,
   "id": "537f80e0-605a-4733-8475-c89701abd954",
   "metadata": {},
   "outputs": [
    {
     "name": "stdout",
     "output_type": "stream",
     "text": [
      "I will not play\n"
     ]
    }
   ],
   "source": [
    "weather= \"rainy\"\n",
    "if weather==\"rainy\":\n",
    "    print(\"I will not play\")\n",
    "else:\n",
    "    print(\"I will play\")"
   ]
  },
  {
   "cell_type": "code",
   "execution_count": 10,
   "id": "cc475a7e-da3e-4b99-ba35-d434588a5d30",
   "metadata": {},
   "outputs": [
    {
     "name": "stdout",
     "output_type": "stream",
     "text": [
      "The number is equal to hundred\n"
     ]
    }
   ],
   "source": [
    "a=100\n",
    "if a>100:\n",
    "    print(\"The number is greater than hundred\")\n",
    "elif a<100:\n",
    "    print(\"The number is smaller than hundred\")\n",
    "else:\n",
    "    print(\"The number is equal to hundred\")\n"
   ]
  },
  {
   "cell_type": "markdown",
   "id": "a67c379a-ad18-4ad8-9c25-82d85e138736",
   "metadata": {},
   "source": [
    "#7. Describe the different type of loops in python and their use cases with example.\n",
    "   - Loops allows to repeate a sequence of code untill any specific condition is fullfilled. Python has for loop and while loop.\n",
    "   - while loop works repetedly on a block of code untill a condition is met and it is true.\n",
    "   - for loop iterate over a sequence of elements in a code\n",
    "\n",
    "     "
   ]
  },
  {
   "cell_type": "code",
   "execution_count": 13,
   "id": "08e09785-6e9a-41d6-8e06-ba9115a1c41e",
   "metadata": {},
   "outputs": [
    {
     "name": "stdout",
     "output_type": "stream",
     "text": [
      "1\n",
      "2\n",
      "3\n",
      "4\n",
      "5\n",
      "6\n",
      "7\n",
      "8\n"
     ]
    }
   ],
   "source": [
    "i=1\n",
    "n=9\n",
    "while i<n:\n",
    "    print(i)\n",
    "    i=i+1"
   ]
  },
  {
   "cell_type": "code",
   "execution_count": 17,
   "id": "08dc7425-fdf6-4374-8866-7b23c3ea2266",
   "metadata": {},
   "outputs": [
    {
     "name": "stdout",
     "output_type": "stream",
     "text": [
      "1\n",
      "2\n",
      "3\n",
      "4\n",
      "5\n",
      "This will be executed when loop ends\n"
     ]
    }
   ],
   "source": [
    "l=[1,2,3,4,5]\n",
    "for i in l:\n",
    "    print(i)\n",
    "else:\n",
    "    print(\"This will be executed when loop ends\")"
   ]
  },
  {
   "cell_type": "code",
   "execution_count": null,
   "id": "f4262921-10ab-4f1e-be97-bca5e8cbdfde",
   "metadata": {},
   "outputs": [],
   "source": []
  }
 ],
 "metadata": {
  "kernelspec": {
   "display_name": "Python [conda env:base] *",
   "language": "python",
   "name": "conda-base-py"
  },
  "language_info": {
   "codemirror_mode": {
    "name": "ipython",
    "version": 3
   },
   "file_extension": ".py",
   "mimetype": "text/x-python",
   "name": "python",
   "nbconvert_exporter": "python",
   "pygments_lexer": "ipython3",
   "version": "3.12.7"
  }
 },
 "nbformat": 4,
 "nbformat_minor": 5
}
